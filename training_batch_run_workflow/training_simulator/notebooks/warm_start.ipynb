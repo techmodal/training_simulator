{
 "cells": [
  {
   "cell_type": "markdown",
   "metadata": {},
   "source": [
    "## Warm Start"
   ]
  },
  {
   "cell_type": "markdown",
   "metadata": {},
   "source": [
    "Warm start method ensures that model does not start from the 0 and the training pipeline on the first step is already populated by progressing trainees."
   ]
  },
  {
   "cell_type": "code",
   "execution_count": 1,
   "metadata": {},
   "outputs": [],
   "source": [
    "import pandas as pd"
   ]
  },
  {
   "cell_type": "code",
   "execution_count": 2,
   "metadata": {},
   "outputs": [],
   "source": [
    "import sys\n",
    "sys.path.append(\"../\") # go to parent dir"
   ]
  },
  {
   "cell_type": "code",
   "execution_count": 3,
   "metadata": {},
   "outputs": [
    {
     "name": "stdout",
     "output_type": "stream",
     "text": [
      "['C:\\\\Users\\\\a.poghosyan\\\\Documents\\\\training_simulation\\\\training_batch_run_workflow\\\\training_simulator\\\\notebooks', 'C:\\\\Users\\\\a.poghosyan\\\\AppData\\\\Local\\\\Continuum\\\\anaconda3\\\\python312.zip', 'C:\\\\Users\\\\a.poghosyan\\\\AppData\\\\Local\\\\Continuum\\\\anaconda3\\\\DLLs', 'C:\\\\Users\\\\a.poghosyan\\\\AppData\\\\Local\\\\Continuum\\\\anaconda3\\\\Lib', 'C:\\\\Users\\\\a.poghosyan\\\\AppData\\\\Local\\\\Continuum\\\\anaconda3', '', 'C:\\\\Users\\\\a.poghosyan\\\\AppData\\\\Local\\\\Continuum\\\\anaconda3\\\\Lib\\\\site-packages', 'C:\\\\Users\\\\a.poghosyan\\\\AppData\\\\Local\\\\Continuum\\\\anaconda3\\\\Lib\\\\site-packages\\\\win32', 'C:\\\\Users\\\\a.poghosyan\\\\AppData\\\\Local\\\\Continuum\\\\anaconda3\\\\Lib\\\\site-packages\\\\win32\\\\lib', 'C:\\\\Users\\\\a.poghosyan\\\\AppData\\\\Local\\\\Continuum\\\\anaconda3\\\\Lib\\\\site-packages\\\\Pythonwin', 'C:\\\\Users\\\\a.poghosyan\\\\AppData\\\\Local\\\\Continuum\\\\anaconda3\\\\Lib\\\\site-packages\\\\setuptools\\\\_vendor', '../']\n"
     ]
    }
   ],
   "source": [
    "print(sys.path)"
   ]
  },
  {
   "cell_type": "code",
   "execution_count": 4,
   "metadata": {},
   "outputs": [],
   "source": [
    "DEFAULT_PARAMETERS = {\"version\": \"2.1.3\",\n",
    "    \"simulation\": {\"steps\": 120, \"start_month\": 4, \"iterations\": 5},\n",
    "    \"streaming\":1,\n",
    "    \"init_trainees\": {\n",
    "        \"course1\": {\"progressing\": 0, \"hold\": 0},\n",
    "        \"course2\": {\"progressing\": 0, \"hold\": 0},\n",
    "        \"course3\": {\"progressing\": 0, \"hold\": 0},\n",
    "        \"course4\": {\"progressing\": 0, \"hold\": 0},\n",
    "        \"course5\": {\"progressing\": 0, \"hold\": 0},\n",
    "        \"course6\": {\"progressing\": 0, \"hold\": 0},\n",
    "        \"course7\": {\"progressing\": 0, \"hold\": 0},\n",
    "\n",
    "    },\n",
    "\n",
    "    \"pipeline\": {\n",
    "        \"init\": {\"new_trainees\": 10, \"input_rate\": 1, \"time_hold\": 120},\n",
    "        \"course1\": {\n",
    "            \"drop_out_progressing\": 0.12,\n",
    "            \"drop_out_hold\": 0,\n",
    "            \"capacity_progressing\": 21,\n",
    "            \"time_progressing\": 2,\n",
    "            \"time_hold\": 120,\n",
    "        },\n",
    "        \"course2\": {\n",
    "            \"drop_out_progressing\": 0.05,\n",
    "            \"drop_out_stream\": 0.6,\n",
    "            \"drop_out_hold\": 0,\n",
    "            \"capacity_progressing\": 11,\n",
    "            \"time_progressing\": 6,\n",
    "            \"time_hold\": 120,\n",
    "        },\n",
    "        \"course3\": {\n",
    "            \"drop_out_progressing\": 0.0,\n",
    "            \"drop_out_hold\": 0.0,\n",
    "            \"capacity_progressing\": 10,\n",
    "            \"time_progressing\": 2,\n",
    "            \"time_hold\": 120,\n",
    "        },\n",
    "        \"course4\": {\n",
    "            \"drop_out_progressing\": 0.05,\n",
    "            \"drop_out_hold\": 0,\n",
    "            \"time_progressing\": 13,\n",
    "            \"capacity_progressing\": 4,\n",
    "            \"pathway_complete\": \"training_pathway1_complete\",\n",
    "            \"time_hold\": 120,\n",
    "        },\n",
    "        \"course5\": {\n",
    "            \"drop_out_progressing\": 0.2,\n",
    "            \"drop_out_hold\": 0,\n",
    "            \"capacity_progressing\": 4,\n",
    "            \"time_progressing\": 10,\n",
    "            \"pathway_complete\": \"training_pathway2_complete\",\n",
    "            \"time_hold\": 120,\n",
    "        },\n",
    "        \"course6\": {\n",
    "            \"drop_out_progressing\": 0.05,\n",
    "            \"drop_out_hold\": 0,\n",
    "            \"capacity_progressing\": 4,\n",
    "            \"time_progressing\": 6,\n",
    "            \"time_hold\": 120,\n",
    "        },\n",
    "        \"course7\": {\n",
    "            \"drop_out_progressing\": 0.0,\n",
    "            \"drop_out_hold\": 0,\n",
    "            \"capacity_progressing\": 8,\n",
    "            \"time_progressing\": 2,\n",
    "            \"pathway_complete\": \"training_pathway3_complete\",\n",
    "            \"time_hold\": 120,\n",
    "        },\n",
    "\n",
    "\n",
    "    },\n",
    "    \"schedule\": {\n",
    "        \"course1\": [1, 2, 3, 4, 5, 6, 7, 8, 9, 10, 11, 12],\n",
    "        \"course2\": [2, 3, 5, 6, 7, 8, 9, 10, 11],\n",
    "        \"course3\": [1, 3, 4, 6, 7, 9, 11],\n",
    "        \"course4\": [1, 4, 7, 10],\n",
    "        \"course5\": [1, 4, 7, 10],\n",
    "        \"course6\": [2, 3, 4, 6, 7, 9, 10],\n",
    "        \"course7\": [1, 3, 4, 5, 6, 8, 9, 10, 11],\n",
    "\n",
    "\n",
    "    },\n",
    "}"
   ]
  },
  {
   "cell_type": "code",
   "execution_count": 5,
   "metadata": {},
   "outputs": [],
   "source": [
    "dfs = []\n",
    "\n",
    "for k, v in DEFAULT_PARAMETERS[\"schedule\"].items():\n",
    "    \n",
    "    df = pd.DataFrame(index=range(1,37))\n",
    "    df[f'{k}_start'] = ''\n",
    "    count = 0\n",
    "    for i in df.index:\n",
    "        if i%12 == 0 and 12 in DEFAULT_PARAMETERS[\"schedule\"][k]:\n",
    "            df.loc[i,f'{k}_start'] = 1\n",
    "        elif i%12 in DEFAULT_PARAMETERS[\"schedule\"][k]:\n",
    "            df.loc[i,f'{k}_start'] = 1\n",
    "        else:\n",
    "            df.loc[i,f'{k}_start'] = 0  \n",
    "    df[f'{k}_cum'] = df.rolling(window=DEFAULT_PARAMETERS['pipeline'][k]['time_progressing'], min_periods=1).sum()\n",
    "    for i in range(1,37):\n",
    "        if df.loc[i,f'{k}_start'] == 1:\n",
    "            df[f'{k}_{count}_left'] = ''\n",
    "            df.loc[i, f'{k}_{count}_left'] = DEFAULT_PARAMETERS['pipeline'][k]['time_progressing']\n",
    "            count += 1\n",
    "            \n",
    "    for i in range(1,37):\n",
    "        for col in df.loc[:,df.columns.str.endswith('left')].columns:\n",
    "            if df.loc[i,col]:\n",
    "                if df.loc[i,col] > 1 and i+1 <= 36:\n",
    "                    df.loc[i+1,col] = df.loc[i,col] -1\n",
    "                    \n",
    "    \n",
    "    df = df.replace('',pd.NA)\n",
    "    df = df.dropna(axis='columns', how='all')\n",
    "    dfs.append(df)"
   ]
  },
  {
   "cell_type": "code",
   "execution_count": 6,
   "metadata": {},
   "outputs": [],
   "source": [
    "final_df = pd.concat(dfs, axis=1)\n",
    "\n",
    "final_df = final_df.tail(12).reset_index(drop=True)\n",
    "final_df.index = range(1,13)"
   ]
  },
  {
   "cell_type": "markdown",
   "metadata": {},
   "source": [
    "---"
   ]
  },
  {
   "cell_type": "code",
   "execution_count": 7,
   "metadata": {},
   "outputs": [],
   "source": [
    "import networkx as nx\n",
    "import enum\n",
    "import math\n",
    "from training_simulator.stages import INIT, PipelineStage\n",
    "from training_simulator.model import PipelineModel\n",
    "class Stage(enum.Enum):\n",
    "    INIT = \"init\"\n",
    "    COURSE1 = \"course1\"\n",
    "    COURSE2 = \"course2\"\n",
    "    COURSE3 = \"course3\"\n",
    "    COURSE4 = \"course4\"\n",
    "    COURSE5 = \"course5\"\n",
    "    COURSE6 = \"course6\"\n",
    "    COURSE7 = \"course7\"\n"
   ]
  },
  {
   "cell_type": "code",
   "execution_count": 8,
   "metadata": {},
   "outputs": [],
   "source": [
    "def check_restream(model_params, career_pathway_file):\n",
    "    df = pd.read_csv(career_pathway_file)\n",
    "   \n",
    "    return df"
   ]
  },
  {
   "cell_type": "code",
   "execution_count": 9,
   "metadata": {},
   "outputs": [],
   "source": [
    "career_pathway_file=\"career_pathway.csv\"\n",
    "df = check_restream(DEFAULT_PARAMETERS, career_pathway_file)\n",
    "\n",
    "cp = nx.from_pandas_edgelist(\n",
    "        df,\n",
    "        source=\"fromstage\",\n",
    "        target=\"tostage\",\n",
    "        edge_attr=True,\n",
    "        create_using=nx.DiGraph())"
   ]
  },
  {
   "cell_type": "code",
   "execution_count": 10,
   "metadata": {},
   "outputs": [],
   "source": [
    "def build_schedule(parameters: dict):\n",
    "    return parameters[\"schedule\"]\n",
    "\n",
    "schedules = build_schedule(DEFAULT_PARAMETERS)"
   ]
  },
  {
   "cell_type": "code",
   "execution_count": 13,
   "metadata": {},
   "outputs": [],
   "source": [
    "def build_stage_map(parameters: dict, cp: nx.DiGraph):\n",
    "    stagemap = {}\n",
    "    stagemap[Stage.INIT.value] = INIT(**(parameters[\"pipeline\"][Stage.INIT.value]))\n",
    "    for node in cp.nodes:\n",
    "        # generate 5 digit int id\n",
    "        unique_id = f\"0\"\n",
    "        neighbors = cp.adj[node]\n",
    "        stage = PipelineStage(\n",
    "            **(parameters[\"pipeline\"][node]),\n",
    "            hold_progressing_trainees=[],\n",
    "            stage_id=unique_id,\n",
    "            stage_name=node,\n",
    "            adjacent_stages=neighbors,\n",
    "        )\n",
    "\n",
    "        stagemap[node] = stage\n",
    "\n",
    "    return stagemap\n",
    "\n",
    "stage_map = build_stage_map(DEFAULT_PARAMETERS, cp)"
   ]
  },
  {
   "cell_type": "code",
   "execution_count": 18,
   "metadata": {},
   "outputs": [
    {
     "name": "stdout",
     "output_type": "stream",
     "text": [
      "course1\n",
      "Avg students per stage, course1,  21.00\n",
      "course2\n",
      "Avg students per stage, course2,  11.00\n",
      "course3\n",
      "Avg students per stage, course3,  10.00\n",
      "course5\n",
      "Avg students per stage, course5,  4.00\n",
      "course6\n",
      "Avg students per stage, course6,  4.00\n",
      "course4\n",
      "Avg students per stage, course4,  4.00\n",
      "course7\n",
      "Avg students per stage, course7,  3.11\n"
     ]
    }
   ],
   "source": [
    "def max_throughput_func(stage, stream_ratio = 1):\n",
    "    if stage != 'init':\n",
    "        return len(schedules[stage]) * stage_map[stage].capacity_progressing * stream_ratio\n",
    "    else:\n",
    "        return len(schedules[stage]) * DEFAULT_PARAMETERS['pipeline']['init']['new_trainees']\n",
    "\n",
    "  \n",
    "       \n",
    "def find_minimum_course_throughput(stage: str) -> list:\n",
    "    \"\"\"calculate the upstream bottlenecks staing from any stage\n",
    "\n",
    "    Args:\n",
    "        params (dict): iteration param set\n",
    "        stage (str): stage name\n",
    "\n",
    "    Returns:\n",
    "        list: list of upstream stages and thier own max thorughputs starting upstream from a specific stage\n",
    "    \"\"\"\n",
    "    prev_stage_throughtput = []\n",
    "    prev_stage_throughtput.append(max_throughput_func(stage))\n",
    "    for course_pair in list(nx.edge_dfs(cp,stage, orientation='reverse')):\n",
    "        prev_stage_throughtput.append(max_throughput_func(course_pair[0]))\n",
    "    return min(prev_stage_throughtput)\n",
    "\n",
    "\n",
    "        \n",
    "avg_course_attendance = {}\n",
    "for stage in cp.nodes:  \n",
    "    print(stage)\n",
    "    if stage != Stage.INIT.value:\n",
    "        avg_course_attendance[stage] = round(find_minimum_course_throughput(stage=stage)/len(schedules[stage]), 2)\n",
    "        print(f\"Avg students per stage, {stage}, {avg_course_attendance[stage]: .02f}\")"
   ]
  },
  {
   "cell_type": "code",
   "execution_count": 19,
   "metadata": {},
   "outputs": [],
   "source": [
    "def total_init_trainees(stage, month):\n",
    "    return round(final_df.loc[month, stage +'_cum'] * avg_course_attendance[stage],2)"
   ]
  },
  {
   "cell_type": "code",
   "execution_count": 26,
   "metadata": {},
   "outputs": [],
   "source": [
    "def split_trainees(stage, trainees, month):\n",
    "    df = final_df.loc[:,final_df.columns.str.startswith(stage)]\n",
    "    df = df.loc[month].to_frame().T.dropna(axis='columns', how='all')\n",
    "    splits = df[f'{stage}_cum'].item()\n",
    "    \n",
    "    ans = []\n",
    "    for i in range(-1,-1 * int(splits) - 1,-1):\n",
    "        ans.append(f\"{round(trainees/splits,0)} trainees with time progressing value of {DEFAULT_PARAMETERS['pipeline'][stage]['time_progressing'] - df.iloc[:,i].item(): .01f}\")\n",
    "    return ans"
   ]
  },
  {
   "cell_type": "code",
   "execution_count": 27,
   "metadata": {},
   "outputs": [
    {
     "name": "stdout",
     "output_type": "stream",
     "text": [
      "int course1 with 42.0\n",
      "['21.0 trainees with time progressing value of  0.0', '21.0 trainees with time progressing value of  1.0'] \n",
      "int course2 with 33.0\n",
      "['11.0 trainees with time progressing value of  0.0', '11.0 trainees with time progressing value of  2.0', '11.0 trainees with time progressing value of  3.0'] \n",
      "int course3 with 10.0\n",
      "['10.0 trainees with time progressing value of  1.0'] \n",
      "int course5 with 12.0\n",
      "['4.0 trainees with time progressing value of  1.0', '4.0 trainees with time progressing value of  4.0', '4.0 trainees with time progressing value of  7.0'] \n",
      "int course6 with 12.0\n",
      "['4.0 trainees with time progressing value of  1.0', '4.0 trainees with time progressing value of  2.0', '4.0 trainees with time progressing value of  3.0'] \n",
      "int course4 with 16.0\n",
      "['4.0 trainees with time progressing value of  1.0', '4.0 trainees with time progressing value of  4.0', '4.0 trainees with time progressing value of  7.0', '4.0 trainees with time progressing value of  10.0'] \n",
      "int course7 with 6.22\n",
      "['3.0 trainees with time progressing value of  0.0', '3.0 trainees with time progressing value of  1.0'] \n"
     ]
    }
   ],
   "source": [
    "model_init_month = 5\n",
    "\n",
    "for stage in cp.nodes:  \n",
    "    if stage != Stage.INIT.value:\n",
    "        print(f\"int {stage} with {total_init_trainees(stage, model_init_month)}\\n{split_trainees(stage, total_init_trainees(stage, model_init_month), model_init_month)} \")"
   ]
  },
  {
   "cell_type": "markdown",
   "metadata": {},
   "source": [
    "---"
   ]
  },
  {
   "cell_type": "code",
   "execution_count": 28,
   "metadata": {},
   "outputs": [],
   "source": [
    "def split_trainees(stage, trainees, month):\n",
    "    df = final_df.loc[:,final_df.columns.str.startswith(stage)]\n",
    "    df = df.loc[month].to_frame().T.dropna(axis='columns', how='all')\n",
    "    splits = df[f'{stage}_cum'].item()\n",
    "    \n",
    "    pilot_starts = []\n",
    "\n",
    "    for i in range(-1,-1 * int(splits) - 1,-1):\n",
    "        pilot_starts.append((round(trainees/splits,0), DEFAULT_PARAMETERS['pipeline'][stage]['time_progressing'] - df.iloc[:,i].item()))\n",
    "    return pilot_starts"
   ]
  },
  {
   "cell_type": "code",
   "execution_count": 30,
   "metadata": {},
   "outputs": [],
   "source": [
    "model_init_month = 5\n",
    "warm_start = {}\n",
    "for stage in cp.nodes:  \n",
    "    if stage != Stage.INIT.value:\n",
    "        warm_start[stage] = split_trainees(stage, total_init_trainees(stage, model_init_month), model_init_month)           "
   ]
  },
  {
   "cell_type": "code",
   "execution_count": 31,
   "metadata": {},
   "outputs": [
    {
     "data": {
      "text/plain": [
       "{'course1': [(21.0, 0), (21.0, 1)],\n",
       " 'course2': [(11.0, 0), (11.0, 2), (11.0, 3)],\n",
       " 'course3': [(10.0, 1)],\n",
       " 'course5': [(4.0, 1), (4.0, 4), (4.0, 7)],\n",
       " 'course6': [(4.0, 1), (4.0, 2), (4.0, 3)],\n",
       " 'course4': [(4.0, 1), (4.0, 4), (4.0, 7), (4.0, 10)],\n",
       " 'course7': [(3.0, 0), (3.0, 1)]}"
      ]
     },
     "execution_count": 31,
     "metadata": {},
     "output_type": "execute_result"
    }
   ],
   "source": [
    "warm_start"
   ]
  },
  {
   "cell_type": "code",
   "execution_count": 32,
   "metadata": {},
   "outputs": [
    {
     "name": "stdout",
     "output_type": "stream",
     "text": [
      "21.0 0\n",
      "21.0 1\n",
      "11.0 0\n",
      "11.0 2\n",
      "11.0 3\n",
      "10.0 1\n",
      "4.0 1\n",
      "4.0 4\n",
      "4.0 7\n",
      "4.0 1\n",
      "4.0 2\n",
      "4.0 3\n",
      "4.0 1\n",
      "4.0 4\n",
      "4.0 7\n",
      "4.0 10\n",
      "3.0 0\n",
      "3.0 1\n"
     ]
    }
   ],
   "source": [
    "for stage in cp.nodes:  \n",
    "    if stage != Stage.INIT.value:\n",
    "        for i in warm_start[stage]:\n",
    "            print(i[0], i[1])"
   ]
  },
  {
   "cell_type": "code",
   "execution_count": null,
   "metadata": {},
   "outputs": [],
   "source": []
  }
 ],
 "metadata": {
  "kernelspec": {
   "display_name": "mesaabm",
   "language": "python",
   "name": "mesaabm"
  },
  "language_info": {
   "codemirror_mode": {
    "name": "ipython",
    "version": 3
   },
   "file_extension": ".py",
   "mimetype": "text/x-python",
   "name": "python",
   "nbconvert_exporter": "python",
   "pygments_lexer": "ipython3",
   "version": "3.12.7"
  }
 },
 "nbformat": 4,
 "nbformat_minor": 4
}
